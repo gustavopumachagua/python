{
 "cells": [
  {
   "cell_type": "code",
   "execution_count": 1,
   "metadata": {},
   "outputs": [],
   "source": [
    "import pandas as pd"
   ]
  },
  {
   "cell_type": "code",
   "execution_count": 5,
   "metadata": {},
   "outputs": [],
   "source": [
    "names = [\"L. Messi\", \"Cristiano Ronaldo\", \"Neymar Jr\", \"J. Oblak\", \"E. Hazard\"]\n",
    "age = [32, 34, 27, 26, 28]\n",
    "height_cm = [170, 187, 175, 188, 175]\n",
    "nationality = [\"Argentina\", \"Portugal\", \"Brazil\", \"Slovenia\", \"Belgium\"]\n",
    "club = [\"Paris Saint-Germain\", \"Manchester United\", \"Paris Saint-Germain\", \"Atletico Madrid\", \"Real Madrid\"]\n",
    "df = pd.DataFrame(index=names, data={\"age\":age, \"height_cm\":height_cm, \"nationality\":nationality, \"club\":club})"
   ]
  },
  {
   "cell_type": "code",
   "execution_count": 6,
   "metadata": {},
   "outputs": [
    {
     "data": {
      "text/html": [
       "<div>\n",
       "<style scoped>\n",
       "    .dataframe tbody tr th:only-of-type {\n",
       "        vertical-align: middle;\n",
       "    }\n",
       "\n",
       "    .dataframe tbody tr th {\n",
       "        vertical-align: top;\n",
       "    }\n",
       "\n",
       "    .dataframe thead th {\n",
       "        text-align: right;\n",
       "    }\n",
       "</style>\n",
       "<table border=\"1\" class=\"dataframe\">\n",
       "  <thead>\n",
       "    <tr style=\"text-align: right;\">\n",
       "      <th></th>\n",
       "      <th>age</th>\n",
       "      <th>height_cm</th>\n",
       "      <th>nationality</th>\n",
       "      <th>club</th>\n",
       "    </tr>\n",
       "  </thead>\n",
       "  <tbody>\n",
       "    <tr>\n",
       "      <th>L. Messi</th>\n",
       "      <td>32</td>\n",
       "      <td>170</td>\n",
       "      <td>Argentina</td>\n",
       "      <td>Paris Saint-Germain</td>\n",
       "    </tr>\n",
       "    <tr>\n",
       "      <th>Cristiano Ronaldo</th>\n",
       "      <td>34</td>\n",
       "      <td>187</td>\n",
       "      <td>Portugal</td>\n",
       "      <td>Manchester United</td>\n",
       "    </tr>\n",
       "    <tr>\n",
       "      <th>Neymar Jr</th>\n",
       "      <td>27</td>\n",
       "      <td>175</td>\n",
       "      <td>Brazil</td>\n",
       "      <td>Paris Saint-Germain</td>\n",
       "    </tr>\n",
       "    <tr>\n",
       "      <th>J. Oblak</th>\n",
       "      <td>26</td>\n",
       "      <td>188</td>\n",
       "      <td>Slovenia</td>\n",
       "      <td>Atletico Madrid</td>\n",
       "    </tr>\n",
       "    <tr>\n",
       "      <th>E. Hazard</th>\n",
       "      <td>28</td>\n",
       "      <td>175</td>\n",
       "      <td>Belgium</td>\n",
       "      <td>Real Madrid</td>\n",
       "    </tr>\n",
       "  </tbody>\n",
       "</table>\n",
       "</div>"
      ],
      "text/plain": [
       "                   age  height_cm nationality                 club\n",
       "L. Messi            32        170   Argentina  Paris Saint-Germain\n",
       "Cristiano Ronaldo   34        187    Portugal    Manchester United\n",
       "Neymar Jr           27        175      Brazil  Paris Saint-Germain\n",
       "J. Oblak            26        188    Slovenia      Atletico Madrid\n",
       "E. Hazard           28        175     Belgium          Real Madrid"
      ]
     },
     "execution_count": 6,
     "metadata": {},
     "output_type": "execute_result"
    }
   ],
   "source": [
    "df"
   ]
  },
  {
   "attachments": {},
   "cell_type": "markdown",
   "metadata": {},
   "source": [
    "# Selecting with a single value"
   ]
  },
  {
   "cell_type": "code",
   "execution_count": 7,
   "metadata": {},
   "outputs": [
    {
     "data": {
      "text/plain": [
       "170"
      ]
     },
     "execution_count": 7,
     "metadata": {},
     "output_type": "execute_result"
    }
   ],
   "source": [
    "# obtener la altura de L.Messi\n",
    "# loc (ubicación)\n",
    "df.loc[\"L. Messi\", \"height_cm\"]\n",
    "\n",
    "# iloc\n",
    "df.iloc[0, 1]"
   ]
  },
  {
   "cell_type": "code",
   "execution_count": 8,
   "metadata": {},
   "outputs": [
    {
     "data": {
      "text/plain": [
       "187"
      ]
     },
     "execution_count": 8,
     "metadata": {},
     "output_type": "execute_result"
    }
   ],
   "source": [
    "# conseguir la altura de cristiano ronaldo\n",
    "# loc (ubicación)\n",
    "df.loc[\"Cristiano Ronaldo\", \"height_cm\"]\n",
    "\n",
    "# iloc\n",
    "df.iloc[1, 1]"
   ]
  },
  {
   "cell_type": "code",
   "execution_count": 10,
   "metadata": {},
   "outputs": [
    {
     "data": {
      "text/plain": [
       "age                             32\n",
       "height_cm                      170\n",
       "nationality              Argentina\n",
       "club           Paris Saint-Germain\n",
       "Name: L. Messi, dtype: object"
      ]
     },
     "execution_count": 10,
     "metadata": {},
     "output_type": "execute_result"
    }
   ],
   "source": [
    "# obtén todos los datos de L.Messi\n",
    "# loc (ubicación)\n",
    "df.loc[\"L. Messi\", :]\n",
    "\n",
    "# iloc\n",
    "df.iloc[0, :]\n"
   ]
  },
  {
   "attachments": {},
   "cell_type": "markdown",
   "metadata": {},
   "source": [
    "# Selecting with a list of values"
   ]
  },
  {
   "cell_type": "code",
   "execution_count": 11,
   "metadata": {},
   "outputs": [
    {
     "data": {
      "text/html": [
       "<div>\n",
       "<style scoped>\n",
       "    .dataframe tbody tr th:only-of-type {\n",
       "        vertical-align: middle;\n",
       "    }\n",
       "\n",
       "    .dataframe tbody tr th {\n",
       "        vertical-align: top;\n",
       "    }\n",
       "\n",
       "    .dataframe thead th {\n",
       "        text-align: right;\n",
       "    }\n",
       "</style>\n",
       "<table border=\"1\" class=\"dataframe\">\n",
       "  <thead>\n",
       "    <tr style=\"text-align: right;\">\n",
       "      <th></th>\n",
       "      <th>age</th>\n",
       "      <th>height_cm</th>\n",
       "      <th>nationality</th>\n",
       "      <th>club</th>\n",
       "    </tr>\n",
       "  </thead>\n",
       "  <tbody>\n",
       "    <tr>\n",
       "      <th>L. Messi</th>\n",
       "      <td>32</td>\n",
       "      <td>170</td>\n",
       "      <td>Argentina</td>\n",
       "      <td>Paris Saint-Germain</td>\n",
       "    </tr>\n",
       "    <tr>\n",
       "      <th>Cristiano Ronaldo</th>\n",
       "      <td>34</td>\n",
       "      <td>187</td>\n",
       "      <td>Portugal</td>\n",
       "      <td>Manchester United</td>\n",
       "    </tr>\n",
       "  </tbody>\n",
       "</table>\n",
       "</div>"
      ],
      "text/plain": [
       "                   age  height_cm nationality                 club\n",
       "L. Messi            32        170   Argentina  Paris Saint-Germain\n",
       "Cristiano Ronaldo   34        187    Portugal    Manchester United"
      ]
     },
     "execution_count": 11,
     "metadata": {},
     "output_type": "execute_result"
    }
   ],
   "source": [
    "# obtener todos los datos sobre L.Messi y Cristiano Ronaldo\n",
    "# loc (ubicación)\n",
    "df.loc[[\"L. Messi\", \"Cristiano Ronaldo\"]]\n",
    "\n",
    "# iloc\n",
    "df.iloc[[0, 1]]"
   ]
  },
  {
   "cell_type": "code",
   "execution_count": 12,
   "metadata": {},
   "outputs": [
    {
     "data": {
      "text/plain": [
       "L. Messi             170\n",
       "Cristiano Ronaldo    187\n",
       "Name: height_cm, dtype: int64"
      ]
     },
     "execution_count": 12,
     "metadata": {},
     "output_type": "execute_result"
    }
   ],
   "source": [
    "# obtener la altura de L.Messi y Cristiano Ronaldo\n",
    "df.loc[[\"L. Messi\", \"Cristiano Ronaldo\"], \"height_cm\"]\n",
    "\n",
    "# obtener la altura de L.Messi y Cristiano Ronaldo\n",
    "df.iloc[[0, 1], 1]"
   ]
  },
  {
   "attachments": {},
   "cell_type": "markdown",
   "metadata": {},
   "source": [
    "# Selecting a range of data with a slice"
   ]
  },
  {
   "cell_type": "code",
   "execution_count": 13,
   "metadata": {},
   "outputs": [
    {
     "data": {
      "text/html": [
       "<div>\n",
       "<style scoped>\n",
       "    .dataframe tbody tr th:only-of-type {\n",
       "        vertical-align: middle;\n",
       "    }\n",
       "\n",
       "    .dataframe tbody tr th {\n",
       "        vertical-align: top;\n",
       "    }\n",
       "\n",
       "    .dataframe thead th {\n",
       "        text-align: right;\n",
       "    }\n",
       "</style>\n",
       "<table border=\"1\" class=\"dataframe\">\n",
       "  <thead>\n",
       "    <tr style=\"text-align: right;\">\n",
       "      <th></th>\n",
       "      <th>age</th>\n",
       "      <th>height_cm</th>\n",
       "      <th>nationality</th>\n",
       "    </tr>\n",
       "  </thead>\n",
       "  <tbody>\n",
       "    <tr>\n",
       "      <th>L. Messi</th>\n",
       "      <td>32</td>\n",
       "      <td>170</td>\n",
       "      <td>Argentina</td>\n",
       "    </tr>\n",
       "    <tr>\n",
       "      <th>Cristiano Ronaldo</th>\n",
       "      <td>34</td>\n",
       "      <td>187</td>\n",
       "      <td>Portugal</td>\n",
       "    </tr>\n",
       "  </tbody>\n",
       "</table>\n",
       "</div>"
      ],
      "text/plain": [
       "                   age  height_cm nationality\n",
       "L. Messi            32        170   Argentina\n",
       "Cristiano Ronaldo   34        187    Portugal"
      ]
     },
     "execution_count": 13,
     "metadata": {},
     "output_type": "execute_result"
    }
   ],
   "source": [
    "# etiquetas de columna de corte: de edad a nacionalidad\n",
    "# loc (ubicación)\n",
    "players = [\"L. Messi\", \"Cristiano Ronaldo\"]\n",
    "df.loc[players, \"age\":\"nationality\"]\n",
    "\n",
    "# iloc\n",
    "players = [0, 1]\n",
    "df.iloc[players, 0:3] # age:nationality + 1"
   ]
  },
  {
   "attachments": {},
   "cell_type": "markdown",
   "metadata": {},
   "source": [
    "# Selecting with conditions"
   ]
  },
  {
   "cell_type": "code",
   "execution_count": 14,
   "metadata": {},
   "outputs": [
    {
     "data": {
      "text/html": [
       "<div>\n",
       "<style scoped>\n",
       "    .dataframe tbody tr th:only-of-type {\n",
       "        vertical-align: middle;\n",
       "    }\n",
       "\n",
       "    .dataframe tbody tr th {\n",
       "        vertical-align: top;\n",
       "    }\n",
       "\n",
       "    .dataframe thead th {\n",
       "        text-align: right;\n",
       "    }\n",
       "</style>\n",
       "<table border=\"1\" class=\"dataframe\">\n",
       "  <thead>\n",
       "    <tr style=\"text-align: right;\">\n",
       "      <th></th>\n",
       "      <th>age</th>\n",
       "      <th>height_cm</th>\n",
       "      <th>club</th>\n",
       "    </tr>\n",
       "  </thead>\n",
       "  <tbody>\n",
       "    <tr>\n",
       "      <th>Cristiano Ronaldo</th>\n",
       "      <td>34</td>\n",
       "      <td>187</td>\n",
       "      <td>Manchester United</td>\n",
       "    </tr>\n",
       "    <tr>\n",
       "      <th>J. Oblak</th>\n",
       "      <td>26</td>\n",
       "      <td>188</td>\n",
       "      <td>Atletico Madrid</td>\n",
       "    </tr>\n",
       "  </tbody>\n",
       "</table>\n",
       "</div>"
      ],
      "text/plain": [
       "                   age  height_cm               club\n",
       "Cristiano Ronaldo   34        187  Manchester United\n",
       "J. Oblak            26        188    Atletico Madrid"
      ]
     },
     "execution_count": 14,
     "metadata": {},
     "output_type": "execute_result"
    }
   ],
   "source": [
    "# una condición: seleccione un jugador con una altura superior a 180 cm\n",
    "# loc (ubicación)\n",
    "columns = [\"age\", \"height_cm\", \"club\"]\n",
    "df.loc[df[\"height_cm\"]>180, columns]\n",
    "\n",
    "# iloc\n",
    "columns = [0, 1, 3]\n",
    "df.iloc[list(df[\"height_cm\"]> 180), columns]"
   ]
  },
  {
   "cell_type": "code",
   "execution_count": 15,
   "metadata": {},
   "outputs": [
    {
     "data": {
      "text/html": [
       "<div>\n",
       "<style scoped>\n",
       "    .dataframe tbody tr th:only-of-type {\n",
       "        vertical-align: middle;\n",
       "    }\n",
       "\n",
       "    .dataframe tbody tr th {\n",
       "        vertical-align: top;\n",
       "    }\n",
       "\n",
       "    .dataframe thead th {\n",
       "        text-align: right;\n",
       "    }\n",
       "</style>\n",
       "<table border=\"1\" class=\"dataframe\">\n",
       "  <thead>\n",
       "    <tr style=\"text-align: right;\">\n",
       "      <th></th>\n",
       "      <th>age</th>\n",
       "      <th>height_cm</th>\n",
       "      <th>nationality</th>\n",
       "      <th>club</th>\n",
       "    </tr>\n",
       "  </thead>\n",
       "  <tbody>\n",
       "    <tr>\n",
       "      <th>Neymar Jr</th>\n",
       "      <td>27</td>\n",
       "      <td>175</td>\n",
       "      <td>Brazil</td>\n",
       "      <td>Paris Saint-Germain</td>\n",
       "    </tr>\n",
       "  </tbody>\n",
       "</table>\n",
       "</div>"
      ],
      "text/plain": [
       "           age  height_cm nationality                 club\n",
       "Neymar Jr   27        175      Brazil  Paris Saint-Germain"
      ]
     },
     "execution_count": 15,
     "metadata": {},
     "output_type": "execute_result"
    }
   ],
   "source": [
    "# condiciones múltiples: seleccione un jugador con una altura superior a 180 cm que jugó en PSG\n",
    "\n",
    "# loc (ubicación)\n",
    "df.loc[(df[\"height_cm\"]>170) & (df[\"club\"] == \"Paris Saint-Germain\"), :]\n",
    "\n",
    "# iloc\n",
    "df.iloc[list((df[\"height_cm\"]> 170) & (df[\"club\"]==\"Paris Saint-Germain\")), :]"
   ]
  }
 ],
 "metadata": {
  "kernelspec": {
   "display_name": "base",
   "language": "python",
   "name": "python3"
  },
  "language_info": {
   "codemirror_mode": {
    "name": "ipython",
    "version": 3
   },
   "file_extension": ".py",
   "mimetype": "text/x-python",
   "name": "python",
   "nbconvert_exporter": "python",
   "pygments_lexer": "ipython3",
   "version": "3.9.12"
  },
  "orig_nbformat": 4,
  "vscode": {
   "interpreter": {
    "hash": "5557b8b0d0ccffa8c9b0e644a970df8370df639590b8e4a6115ddea4b2b66ad5"
   }
  }
 },
 "nbformat": 4,
 "nbformat_minor": 2
}
